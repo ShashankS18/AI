{
  "nbformat": 4,
  "nbformat_minor": 0,
  "metadata": {
    "colab": {
      "name": "Untitled1.ipynb",
      "provenance": [],
      "authorship_tag": "ABX9TyNLuJ6jclyJkTTWOMGNUYLh",
      "include_colab_link": true
    },
    "kernelspec": {
      "name": "python3",
      "display_name": "Python 3"
    }
  },
  "cells": [
    {
      "cell_type": "markdown",
      "metadata": {
        "id": "view-in-github",
        "colab_type": "text"
      },
      "source": [
        "<a href=\"https://colab.research.google.com/github/ShashankS18/AI/blob/master/twitter_data.ipynb\" target=\"_parent\"><img src=\"https://colab.research.google.com/assets/colab-badge.svg\" alt=\"Open In Colab\"/></a>"
      ]
    },
    {
      "cell_type": "code",
      "metadata": {
        "id": "xo1yzf5dT9qD",
        "colab_type": "code",
        "colab": {}
      },
      "source": [
        "# installing  twitter module\n",
        "#!pip  install tweepy\n",
        "import  tweepy "
      ],
      "execution_count": 0,
      "outputs": []
    },
    {
      "cell_type": "code",
      "metadata": {
        "id": "W3P8_0oAUC8o",
        "colab_type": "code",
        "colab": {}
      },
      "source": [
        "#  defining variables\n",
        "#  consumer key \n",
        "consumer_key=\"\"\n",
        "consumer_sec=\"\"\n",
        "# access details\n",
        "access_key = \"\"\n",
        "access_sec=\"\"\n",
        "\n",
        "\n",
        "\n"
      ],
      "execution_count": 0,
      "outputs": []
    },
    {
      "cell_type": "code",
      "metadata": {
        "id": "TXj5ImgkUImm",
        "colab_type": "code",
        "colab": {}
      },
      "source": [
        "# lets  connect  at  first step auth by using consumer  access details \n",
        "#dir(tweepy)\n",
        "first_auth=tweepy.OAuthHandler(consumer_key,consumer_sec)\n",
        "\n",
        "#  now setting  second level of auth\n",
        "first_auth.set_access_token(access_key,access_sec)\n",
        "\n",
        "#  pointing  auth to datastore\n",
        "storage_api_connect=tweepy.API(first_auth,timeout=10)  #  now after this step we can browse / search data from tweetes\n",
        "\n",
        "# now  searching  data  as req and waiting  for reply  \n",
        "#  first  method \n",
        "#tweet_data=storage_api_connect.search('corona',count=25)\n",
        "\n",
        "#  second method\n",
        "from textblob  import  TextBlob   #  automated way of sentiment analysis \n",
        "search_data=[\"corona\"]  #  search list\n",
        "list_of_tweets=[]   #  tweet data store\n",
        "\n",
        "if  len(search_data) >= 1 : \n",
        "  for  i  in  tweepy.Cursor(storage_api_connect.search,q=search_data[0]+\"  -filter:retweets\",lang='en',result_type='recent').items(100):\n",
        "    analyse=TextBlob(i.text)\n",
        "    print(analyse.sentiment.polarity)\n",
        "    #print(i.text)\n",
        "\n",
        "#print(list_of_tweets)"
      ],
      "execution_count": 0,
      "outputs": []
    }
  ]
}