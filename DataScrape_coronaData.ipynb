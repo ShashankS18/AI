{
  "nbformat": 4,
  "nbformat_minor": 0,
  "metadata": {
    "colab": {
      "name": "DataScrape.ipynb",
      "provenance": [],
      "authorship_tag": "ABX9TyMsFpU14Ny/rt71Mu6dfu2w",
      "include_colab_link": true
    },
    "kernelspec": {
      "name": "python3",
      "display_name": "Python 3"
    }
  },
  "cells": [
    {
      "cell_type": "markdown",
      "metadata": {
        "id": "view-in-github",
        "colab_type": "text"
      },
      "source": [
        "<a href=\"https://colab.research.google.com/github/ShashankS18/AI/blob/master/DataScrape_coronaData.ipynb\" target=\"_parent\"><img src=\"https://colab.research.google.com/assets/colab-badge.svg\" alt=\"Open In Colab\"/></a>"
      ]
    },
    {
      "cell_type": "code",
      "metadata": {
        "id": "hCbASma2PDbl",
        "colab_type": "code",
        "colab": {}
      },
      "source": [
        "#importing modules\n",
        "from bs4  import BeautifulSoup # web scrapping\n",
        "import requests # replacement of URL lib \n",
        "import time # to give some delay msg\n",
        "\n"
      ],
      "execution_count": 0,
      "outputs": []
    },
    {
      "cell_type": "code",
      "metadata": {
        "id": "xWCE5y4wkR8W",
        "colab_type": "code",
        "colab": {
          "base_uri": "https://localhost:8080/",
          "height": 34
        },
        "outputId": "130cad56-5e7b-48f3-ce4c-cb8b24211bfe"
      },
      "source": [
        "# taking live corona dataset\n",
        "url=\"https://www.worldometers.info/coronavirus/\"\n",
        "\n",
        "#now connecting wiht https protocol\n",
        "htmlpage=requests.get(url)\n",
        "#print(htlmpage.text) # print info\n",
        "\n",
        "purehtmlpage=htmlpage.content\n",
        "soupdata=BeautifulSoup(purehtmlpage,'html5lib') #souping\n",
        "\n",
        "print(type(soupdata))\n",
        "\n"
      ],
      "execution_count": 3,
      "outputs": [
        {
          "output_type": "stream",
          "text": [
            "<class 'bs4.BeautifulSoup'>\n"
          ],
          "name": "stdout"
        }
      ]
    },
    {
      "cell_type": "code",
      "metadata": {
        "id": "ALCOTh5gl7jG",
        "colab_type": "code",
        "colab": {}
      },
      "source": [
        "tb=soupdata.find_all('table',class_=\"table table-bordered table-hover main_table_countries\")\n"
      ],
      "execution_count": 0,
      "outputs": []
    },
    {
      "cell_type": "code",
      "metadata": {
        "id": "AvdkZ7mAqAXc",
        "colab_type": "code",
        "colab": {
          "base_uri": "https://localhost:8080/",
          "height": 185
        },
        "outputId": "edf3a27c-0fe5-4299-f4b6-be888b918297"
      },
      "source": [
        "# finding all table rows\n",
        "for trr in tb[0].find_all('tr'):\n",
        "  for rows in trr.find_all('th'):\n",
        "    print(rows.text)"
      ],
      "execution_count": 6,
      "outputs": [
        {
          "output_type": "stream",
          "text": [
            "Country,Other\n",
            "TotalCases\n",
            "NewCases\n",
            "TotalDeaths\n",
            "NewDeaths\n",
            "TotalRecovered\n",
            "ActiveCases\n",
            "Serious,Critical\n",
            "Tot Cases/1M pop\n",
            "Tot Deaths/1M pop\n"
          ],
          "name": "stdout"
        }
      ]
    },
    {
      "cell_type": "code",
      "metadata": {
        "id": "HdLU0QWdri6P",
        "colab_type": "code",
        "colab": {
          "base_uri": "https://localhost:8080/",
          "height": 464
        },
        "outputId": "07d2c3a7-5722-42e5-f65e-e492940a43e3"
      },
      "source": [
        "# now scraping data from each row\n",
        "for trr1 in tb[0].find_all('tr'):\n",
        "  for rows in trr1.find_all('td'):\n",
        "   # print(rows.text)\n",
        "    time.sleep(1)"
      ],
      "execution_count": 9,
      "outputs": [
        {
          "output_type": "stream",
          "text": [
            "China\n",
            "81,340\n",
            "+55\n",
            "3,292                                \n",
            "+5\n",
            "74,588\n",
            "3,460\n",
            "1,034\n",
            "57\n",
            "2\n",
            "USA\n",
            "85,749\n",
            "+314\n",
            "1,304                                \n",
            "+9\n",
            "1,868\n"
          ],
          "name": "stdout"
        },
        {
          "output_type": "error",
          "ename": "KeyboardInterrupt",
          "evalue": "ignored",
          "traceback": [
            "\u001b[0;31m---------------------------------------------------------------------------\u001b[0m",
            "\u001b[0;31mKeyboardInterrupt\u001b[0m                         Traceback (most recent call last)",
            "\u001b[0;32m<ipython-input-9-477ba8a7dae0>\u001b[0m in \u001b[0;36m<module>\u001b[0;34m()\u001b[0m\n\u001b[1;32m      2\u001b[0m   \u001b[0;32mfor\u001b[0m \u001b[0mrows\u001b[0m \u001b[0;32min\u001b[0m \u001b[0mtrr1\u001b[0m\u001b[0;34m.\u001b[0m\u001b[0mfind_all\u001b[0m\u001b[0;34m(\u001b[0m\u001b[0;34m'td'\u001b[0m\u001b[0;34m)\u001b[0m\u001b[0;34m:\u001b[0m\u001b[0;34m\u001b[0m\u001b[0;34m\u001b[0m\u001b[0m\n\u001b[1;32m      3\u001b[0m     \u001b[0mprint\u001b[0m\u001b[0;34m(\u001b[0m\u001b[0mrows\u001b[0m\u001b[0;34m.\u001b[0m\u001b[0mtext\u001b[0m\u001b[0;34m)\u001b[0m\u001b[0;34m\u001b[0m\u001b[0;34m\u001b[0m\u001b[0m\n\u001b[0;32m----> 4\u001b[0;31m     \u001b[0mtime\u001b[0m\u001b[0;34m.\u001b[0m\u001b[0msleep\u001b[0m\u001b[0;34m(\u001b[0m\u001b[0;36m1\u001b[0m\u001b[0;34m)\u001b[0m\u001b[0;34m\u001b[0m\u001b[0;34m\u001b[0m\u001b[0m\n\u001b[0m",
            "\u001b[0;31mKeyboardInterrupt\u001b[0m: "
          ]
        }
      ]
    },
    {
      "cell_type": "code",
      "metadata": {
        "id": "OVaJWw_Rsazv",
        "colab_type": "code",
        "colab": {}
      },
      "source": [
        ""
      ],
      "execution_count": 0,
      "outputs": []
    }
  ]
}